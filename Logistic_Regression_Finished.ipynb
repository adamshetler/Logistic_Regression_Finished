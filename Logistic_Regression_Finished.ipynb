{
 "cells": [
  {
   "cell_type": "code",
   "execution_count": 122,
   "metadata": {},
   "outputs": [],
   "source": [
    "#this notebook implements Logistic Regression on a linearly seperable toy dataset with two classes. This is done from \n",
    "#scatch making use of only numpy for matrix computations and matplotlib for ploting. "
   ]
  },
  {
   "cell_type": "code",
   "execution_count": 123,
   "metadata": {},
   "outputs": [],
   "source": [
    "import numpy as np\n",
    "import random\n",
    "import matplotlib.pyplot as plt"
   ]
  },
  {
   "cell_type": "code",
   "execution_count": 124,
   "metadata": {},
   "outputs": [
    {
     "name": "stdout",
     "output_type": "stream",
     "text": [
      "(100, 3)\n"
     ]
    }
   ],
   "source": [
    "data=np.loadtxt(\"logistic_data.txt\")\n",
    "print(data.shape)"
   ]
  },
  {
   "cell_type": "code",
   "execution_count": 125,
   "metadata": {},
   "outputs": [],
   "source": [
    "L=[random.randint(0,99) for j in range(100)]"
   ]
  },
  {
   "cell_type": "code",
   "execution_count": 126,
   "metadata": {},
   "outputs": [],
   "source": [
    "toy_set = data[L]"
   ]
  },
  {
   "cell_type": "code",
   "execution_count": 127,
   "metadata": {},
   "outputs": [],
   "source": [
    "ind_1 = []\n",
    "ind_2 = []\n",
    "for i in range(toy_set.shape[0]):\n",
    "    if toy_set[i][2]==0:\n",
    "        ind_1.append((toy_set[i][0],toy_set[i][1]))\n",
    "    else:\n",
    "        ind_2.append((toy_set[i][0],toy_set[i][1]))"
   ]
  },
  {
   "cell_type": "code",
   "execution_count": 128,
   "metadata": {},
   "outputs": [],
   "source": [
    "ind_1_x = [ind_1[i][0] for i in range(len(ind_1))]\n",
    "ind_1_y = [ind_1[i][1] for i in range(len(ind_1))]\n",
    "\n",
    "ind_2_x = [ind_2[i][0] for i in range(len(ind_2))]\n",
    "ind_2_y = [ind_2[i][1] for i in range(len(ind_2))]"
   ]
  },
  {
   "cell_type": "code",
   "execution_count": 129,
   "metadata": {},
   "outputs": [
    {
     "data": {
      "image/png": "[encoded data removed]",
      "text/plain": [
       "<matplotlib.figure.Figure at 0x11b963978>"
      ]
     },
     "metadata": {},
     "output_type": "display_data"
    }
   ],
   "source": [
    "plt.scatter(ind_1_x,ind_1_y,color='red')\n",
    "plt.scatter(ind_2_x,ind_2_y,color='blue')\n",
    "plt.show()"
   ]
  },
  {
   "cell_type": "code",
   "execution_count": 130,
   "metadata": {},
   "outputs": [],
   "source": [
    "X = toy_set[:,0:2]\n",
    "y = toy_set[:,2]"
   ]
  },
  {
   "cell_type": "code",
   "execution_count": 131,
   "metadata": {},
   "outputs": [],
   "source": [
    "def sigmoid(z):\n",
    "    return 1 / (1 + np.exp(-z))"
   ]
  },
  {
   "cell_type": "code",
   "execution_count": 132,
   "metadata": {
    "collapsed": true
   },
   "outputs": [],
   "source": [
    "def initialize_weights(num_features):\n",
    "    return np.zeros((1,num_features+1))"
   ]
  },
  {
   "cell_type": "code",
   "execution_count": 133,
   "metadata": {
    "collapsed": true
   },
   "outputs": [],
   "source": [
    "weights = initialize_weights(2)\n",
    "weights = weights.T"
   ]
  },
  {
   "cell_type": "code",
   "execution_count": 134,
   "metadata": {},
   "outputs": [],
   "source": [
    "#this function takes as inputs: \n",
    "    # X: (array) a mxn matrix of un-normalized training data (Column of ones not yet added) \n",
    "    # y: (array) a mx1 matrix of labels \n",
    "    # theta: (array) initialized weights \n",
    "    # num_iter: (int) the number of steps to take in gradient descent \n",
    "    # alpha: (float) learning rate \n",
    "#this function will first normalize our training data then fit a logistic regression model on our linear seperable data. The function will return:\n",
    "    # theta: the optimal weights found after num_iter\n",
    "    # cost_history: a list containing tuples with (nth iteration,cost at nth iteration)\n",
    "    # score: the percent of correct predictions \n",
    "    # predictions: a list containing the output of our model \n",
    "    \n",
    "def logistic_regression(X,y,theta,num_iter,alpha):\n",
    "\n",
    "    Xnorm = np.zeros((X.shape))\n",
    "    for i in range(X.shape[1]):\n",
    "        mu = np.mean(X[:,i])\n",
    "        sigma = np.std(X[:,i])\n",
    "        Xnorm[:,i] = (X[:,i] - mu)/sigma\n",
    "\n",
    "    col_ones = np.ones((X.shape[0],1))\n",
    "    Xnew = np.append(col_ones,Xnorm,axis=1)\n",
    "\n",
    "    m, n = Xnew.shape\n",
    "    y = y.reshape(m,1)\n",
    "\n",
    "    cost_history = []\n",
    "\n",
    "    for j in range(num_iter):\n",
    "        J = 0\n",
    "        temp_weights = np.zeros((theta.shape))\n",
    "        temp_weights = np.asmatrix(temp_weights)\n",
    "        h = sigmoid(Xnew.dot(theta))\n",
    "        grad =  Xnew.T.dot(h - y)\n",
    "\n",
    "        for k in range(m):\n",
    "            J+= (-1/m)*(y[k]*np.log(sigmoid(np.dot(Xnew[k,:],theta))) + (1-y[k])*np.log(1-sigmoid(np.dot(Xnew[k,:],theta))))\n",
    "\n",
    "        for l in range(n):\n",
    "            temp_weights[l] = theta[l] - alpha*(grad[l])\n",
    "        theta = temp_weights\n",
    "        cost_history.append((j,J))\n",
    "\n",
    "\n",
    "    predictions = []\n",
    "    for M in range(m):\n",
    "        if(sigmoid(np.dot(Xnew[M,:],theta))>=0.5):\n",
    "            predictions.append(1)\n",
    "        else:\n",
    "            predictions.append(0)\n",
    "    count = 0\n",
    "    for N in range(len(predictions)):\n",
    "        if predictions[N] == y[N]:\n",
    "            count+=1\n",
    "    score = float(count/m)\n",
    "\n",
    "    return theta,cost_history,score,predictions"
   ]
  },
  {
   "cell_type": "code",
   "execution_count": 135,
   "metadata": {},
   "outputs": [],
   "source": [
    "optimal_weights,cost_hist,accuracy,output = (logistic_regression(X,y,weights,50,.01))"
   ]
  },
  {
   "cell_type": "code",
   "execution_count": 136,
   "metadata": {},
   "outputs": [],
   "source": [
    "cost_x = [cost_hist[i][0] for i in range(len(cost_hist))]\n",
    "cost_y = [cost_hist[i][1] for i in range(len(cost_hist))]"
   ]
  },
  {
   "cell_type": "code",
   "execution_count": 137,
   "metadata": {},
   "outputs": [
    {
     "data": {
      "image/png": "[encoded data removed]",
      "text/plain": [
       "<matplotlib.figure.Figure at 0x11b2d9860>"
      ]
     },
     "metadata": {},
     "output_type": "display_data"
    }
   ],
   "source": [
    "plt.plot(cost_x,cost_y,linewidth = 3,color='b')\n",
    "plt.title('Cost over 50 Iterations')\n",
    "plt.xlabel('Iteration')\n",
    "plt.ylabel('Cost')\n",
    "plt.show()"
   ]
  },
  {
   "cell_type": "code",
   "execution_count": 138,
   "metadata": {
    "collapsed": true
   },
   "outputs": [],
   "source": [
    "Xnorm = np.zeros((X.shape))\n",
    "for i in range(X.shape[1]):\n",
    "    mu = np.mean(X[:,i])\n",
    "    sigma = np.std(X[:,i])\n",
    "    Xnorm[:,i] = (X[:,i] - mu)/sigma"
   ]
  },
  {
   "cell_type": "code",
   "execution_count": 139,
   "metadata": {},
   "outputs": [],
   "source": [
    "ind0 = []\n",
    "ind1 = []\n",
    "for i in range(Xnorm.shape[0]):\n",
    "    if output[i] == 0:\n",
    "        ind0.append(Xnorm[i,:])\n",
    "    else:\n",
    "        ind1.append(Xnorm[i,:])"
   ]
  },
  {
   "cell_type": "code",
   "execution_count": 140,
   "metadata": {},
   "outputs": [],
   "source": [
    "ind0_x = [ind0[i][0] for i in range(len(ind0))]\n",
    "ind0_y = [ind0[i][1] for i in range(len(ind0))]\n",
    "\n",
    "ind1_x = [ind1[i][0] for i in range(len(ind1))]\n",
    "ind1_y = [ind1[i][1] for i in range(len(ind1))]"
   ]
  },
  {
   "cell_type": "code",
   "execution_count": 141,
   "metadata": {},
   "outputs": [],
   "source": [
    "def desicion_boundary(x,theta):\n",
    "    return -(float(theta[0])+float(theta[1])*x)/float(theta[2])"
   ]
  },
  {
   "cell_type": "code",
   "execution_count": 142,
   "metadata": {},
   "outputs": [],
   "source": [
    "xvals = np.arange(-2, 2, 0.1)"
   ]
  },
  {
   "cell_type": "code",
   "execution_count": 143,
   "metadata": {},
   "outputs": [],
   "source": [
    "yvals = []\n",
    "for i in range(len(xvalues)):\n",
    "    yvals.append(desicion_boundary(xvalues[i],optimal_weights))"
   ]
  },
  {
   "cell_type": "code",
   "execution_count": 144,
   "metadata": {},
   "outputs": [
    {
     "data": {
      "image/png": "[encoded data removed]",
      "text/plain": [
       "<matplotlib.figure.Figure at 0x11b2d3320>"
      ]
     },
     "metadata": {},
     "output_type": "display_data"
    }
   ],
   "source": [
    "plt.plot(xvals,yvals,linewidth=2,linestyle = 'dashed',color='black')\n",
    "plt.scatter(ind0_x,ind0_y,color = 'red')\n",
    "plt.scatter(ind1_x,ind1_y,color = 'blue')\n",
    "plt.title('Logistic Regression Classification with Desicion Boundary')\n",
    "plt.show()"
   ]
  },
  {
   "cell_type": "code",
   "execution_count": 158,
   "metadata": {},
   "outputs": [
    {
     "name": "stdout",
     "output_type": "stream",
     "text": [
      "The accuarcy of this model is: 90.0%\n"
     ]
    }
   ],
   "source": [
    "print(\"The accuarcy of this model is: {}%\".format(accuracy*100))"
   ]
  }
 ],
 "metadata": {
  "kernelspec": {
   "display_name": "Python 3",
   "language": "python",
   "name": "python3"
  },
  "language_info": {
   "codemirror_mode": {
    "name": "ipython",
    "version": 3
   },
   "file_extension": ".py",
   "mimetype": "text/x-python",
   "name": "python",
   "nbconvert_exporter": "python",
   "pygments_lexer": "ipython3",
   "version": "3.6.3"
  }
 },
 "nbformat": 4,
 "nbformat_minor": 1
}
